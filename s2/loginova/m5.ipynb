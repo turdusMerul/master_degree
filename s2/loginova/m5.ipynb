{
 "cells": [
  {
   "cell_type": "markdown",
   "metadata": {},
   "source": [
    "# УСЛОВИЕ\n",
    "\n",
    "Азбука Морзе была изобретена в XIX веке для передачи информации посредством телеграфа. Она широко используется и сегодня, более чем через 160 лет после ее создания. \n",
    "\n",
    "Написать программу, в которой соответствие символов из азбуки Морзе будет храниться в виде словаря. В табл. 6.3 приведена та часть азбуки, которая вам понадобится при решении этого задания. В основной программе вам необходимо запросить у пользователя строку. После этого программа должна преобразовать его в соответствующую последовательность точек и тире, вставляя пробелы между отдельными символами. Символы, не представленные в таблице, можно игнорировать. \n",
    "\n",
    "Например, сообщение Hello, World! может быть представлено следующей последовательностью: .... . .–.. .–.. ––– .–– ––– .–. .–.. –.."
   ]
  },
  {
   "cell_type": "markdown",
   "metadata": {},
   "source": [
    "# РЕШЕНИЕ"
   ]
  },
  {
   "cell_type": "code",
   "execution_count": 2,
   "metadata": {},
   "outputs": [],
   "source": [
    "MORZE = {\"en\" :{\n",
    "    \"A\": \".-\",\n",
    "    \"B\": \"-...\",\n",
    "    \"C\": \"-.-.\",\n",
    "    \"D\": \"-..\",\n",
    "    \"E\": \".\",\n",
    "    \"F\": \"..-.\",\n",
    "    \"G\": \"--.\",\n",
    "    \"H\": \"....\",\n",
    "    \"I\": \"..\",\n",
    "    \"J\": \".---\",\n",
    "    \"K\": \"-.-\",\n",
    "    \"L\": \".-..\",\n",
    "    \"M\": \"--\",\n",
    "    \"N\": \"-.\",\n",
    "    \"O\": \"---\",\n",
    "    \"P\": \".--.\",\n",
    "    \"Q\": \"--.-\",\n",
    "    \"R\": \".-.\",\n",
    "    \"S\": \"...\",\n",
    "    \"T\": \"-\",\n",
    "    \"U\": \"..-\",\n",
    "    \"V\": \"...-\",\n",
    "    \"W\": \".--\",\n",
    "    \"X\": \"-..-\",\n",
    "    \"Y\": \"-.--\",\n",
    "    \"Z\": \"--..\",\n",
    "    \"1\": \".----\",\n",
    "    \"2\": \"..---\",\n",
    "    \"3\": \"...--\",\n",
    "    \"4\": \"....-\",\n",
    "    \"5\": \".....\",\n",
    "    \"6\": \"-....\",\n",
    "    \"7\": \"--...\",\n",
    "    \"8\": \"---..\",\n",
    "    \"9\": \"----.\",\n",
    "    \"0\": \"-----\"\n",
    "}}\n",
    "\n",
    "\n",
    "def morze_en_encode(text: str) -> str:\n",
    "    \"\"\"Принимает в качестве параметра текст на латинице\n",
    "    и переводит его в морзянку.\n",
    "    Символы, отсутствующие в словаре, пропускает.\"\"\"\n",
    "\n",
    "    result = \"\"\n",
    "    for char in text.upper():\n",
    "        morzed = MORZE[\"en\"].get(char, \"\") + \" \"\n",
    "        result += morzed if morzed != \" \" else \"\"\n",
    "    return result\n",
    "\n",
    "\n",
    "def morze_en_decode(text: str) -> str:\n",
    "    \"\"\"Принимает в качестве параметра текст на морзянке\n",
    "    и переводит его в латиницу.\n",
    "    Символы, отсутствующие в словаре, пропускает.\"\"\"\n",
    "    result = \"\"\n",
    "    DEMORZE = {v: k for k, v in MORZE[\"en\"].items()}\n",
    "    for char in text.split():\n",
    "        result += DEMORZE.get(char, \"\")\n",
    "    return result"
   ]
  },
  {
   "cell_type": "markdown",
   "metadata": {},
   "source": [
    "# ТЕСТЫ"
   ]
  },
  {
   "cell_type": "code",
   "execution_count": 4,
   "metadata": {},
   "outputs": [
    {
     "name": "stdout",
     "output_type": "stream",
     "text": [
      "Original: Вся кириллица игнорируется\n",
      "Morzed: \n",
      "Demorzed:  \n",
      "\n",
      "Original: Text in ANy cAse iS proCESsed\n",
      "Morzed: - . -..- - .. -. .- -. -.-- -.-. .- ... . .. ... .--. .-. --- -.-. . ... ... . -.. \n",
      "Demorzed: TEXTINANYCASEISPROCESSED \n",
      "\n",
      "Original: Number5 al50 can be pr0ce55ed!1!11\n",
      "Morzed: -. ..- -- -... . .-. ..... .- .-.. ..... ----- -.-. .- -. -... . .--. .-. ----- -.-. . ..... ..... . -.. .---- .---- .---- \n",
      "Demorzed: NUMBER5AL50CANBEPR0CE55ED111 \n",
      "\n",
      "Original: HelLO WORld!!!Привет\n",
      "Morzed: .... . .-.. .-.. --- .-- --- .-. .-.. -.. \n",
      "Demorzed: HELLOWORLD \n",
      "\n"
     ]
    }
   ],
   "source": [
    "def morze_test(text: str) -> None:\n",
    "    \"\"\"Принимает в качестве параметра текст на латинице\n",
    "    и проводит тесты по переводу в морзянку и обратно\"\"\"\n",
    "\n",
    "    morzed = morze_en_encode(text)\n",
    "    print(\"Original:\", text)\n",
    "    print(\"Morzed:\", morzed)\n",
    "    demorzed = morze_en_decode(morzed)\n",
    "    print(\"Demorzed:\", demorzed, \"\\n\")\n",
    "\n",
    "\n",
    "# Список строк для тестирования\n",
    "tests = [\n",
    "    \"Вся кириллица игнорируется\",\n",
    "    \"Text in ANy cAse iS proCESsed\",\n",
    "    \"Number5 al50 can be pr0ce55ed!1!11\",\n",
    "    \"HelLO WORld!!!Привет\"\n",
    "]\n",
    "\n",
    "# Инициализация тестирования\n",
    "for text in tests:\n",
    "    morze_test(text)\n"
   ]
  }
 ],
 "metadata": {
  "interpreter": {
   "hash": "179cb509d65a00bf5ff4e86f560421301395c2e2ae7d972b1d9822e754c89843"
  },
  "kernelspec": {
   "display_name": "Python 3.10.2 ('.stud_env': venv)",
   "language": "python",
   "name": "python3"
  },
  "language_info": {
   "codemirror_mode": {
    "name": "ipython",
    "version": 3
   },
   "file_extension": ".py",
   "mimetype": "text/x-python",
   "name": "python",
   "nbconvert_exporter": "python",
   "pygments_lexer": "ipython3",
   "version": "3.10.2"
  },
  "orig_nbformat": 4
 },
 "nbformat": 4,
 "nbformat_minor": 2
}
