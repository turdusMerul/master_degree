{
 "cells": [
  {
   "cell_type": "markdown",
   "metadata": {},
   "source": [
    "NumPy — это библиотека языка Python для работы с большими многомерными массивами и матрицами.\n",
    "Основным объектом NumPy является однородный многомерный массив numpy.ndarray.\n",
    "\n",
    "Наиболее важные атрибуты объектов ndarray:\n",
    "\n",
    "ndarray.ndim - число измерений (чаще их называют \"оси\") массива.\n",
    "\n",
    "ndarray.shape - размеры массива, его форма. Это кортеж натуральных чисел, показывающий длину массива по каждой оси. Для матрицы из n строк и m столбов, shape будет (n,m). Число элементов кортежа shape равно ndim.\n",
    "\n",
    "ndarray.size - количество элементов массива. Очевидно, равно произведению всех элементов атрибута shape.\n",
    "\n",
    "ndarray.dtype - объект, описывающий тип элементов массива. Можно определить dtype, используя стандартные типы данных Python. NumPy здесь предоставляет целый букет возможностей, как встроенных, например: bool_, character, int8, int16, int32, int64, float8, float16, float32, float64, complex64, object_, так и возможность определить собственные типы данных, в том числе и составные.\n",
    "\n",
    "ndarray.itemsize - размер каждого элемента массива в байтах.\n",
    "\n",
    "https://physics.susu.ru/vorontsov/language/numpy.html"
   ]
  },
  {
   "cell_type": "code",
   "execution_count": 1,
   "metadata": {},
   "outputs": [],
   "source": [
    "# импорт библиотеки в наш проект\n",
    "import numpy as np"
   ]
  },
  {
   "cell_type": "markdown",
   "metadata": {},
   "source": [
    "Создание массивов\n",
    "В NumPy существует много способов создать массив. \n",
    "Один из наиболее простых - создать массив из обычных списков или кортежей Python, используя функцию numpy.array()\n"
   ]
  },
  {
   "cell_type": "code",
   "execution_count": 2,
   "metadata": {},
   "outputs": [
    {
     "name": "stdout",
     "output_type": "stream",
     "text": [
      "Массив1: [1 2 3]\n",
      "Массив2: [4 5 6]\n",
      "Массив3: [6 7 8]\n",
      "<class 'numpy.ndarray'>\n"
     ]
    }
   ],
   "source": [
    "arr = np.array([1, 2, 3])\n",
    "list_new = [4,5,6]\n",
    "arr2 = np.array(list_new)\n",
    "arr3 = np.array((6,7,8))\n",
    "print('Массив1: {}'.format(arr))\n",
    "print('Массив2: {}'.format(arr2))\n",
    "print('Массив3: {}'.format(arr3))\n",
    "print(type(arr))"
   ]
  },
  {
   "cell_type": "markdown",
   "metadata": {},
   "source": [
    "Функция array() трансформирует вложенные последовательности в многомерные массивы. \n",
    "ВАЖНО: Тип элементов массива зависит от типа элементов исходной последовательности (но можно и переопределить его в момент создания).\n"
   ]
  },
  {
   "cell_type": "code",
   "execution_count": 3,
   "metadata": {},
   "outputs": [
    {
     "name": "stdout",
     "output_type": "stream",
     "text": [
      "Массив4:\n",
      " [[1.5 2.  3. ]\n",
      " [4.  5.  6. ]]\n"
     ]
    }
   ],
   "source": [
    "b = np.array([[1.5, 2, 3], [4, 5, 6]])\n",
    "print('Массив4:\\n {}'.format(b))\n"
   ]
  },
  {
   "cell_type": "markdown",
   "metadata": {},
   "source": [
    "Можно также переопределить тип в момент создания:"
   ]
  },
  {
   "cell_type": "code",
   "execution_count": 6,
   "metadata": {},
   "outputs": [
    {
     "name": "stdout",
     "output_type": "stream",
     "text": [
      "Массив5:\n",
      " [[1 2 3]\n",
      " [4 5 6]]\n",
      "Массив5:\n",
      " [[1.5+0.j 2. +3.j 3. +0.j]\n",
      " [4. +0.j 5. +0.j 6. +0.j]]\n"
     ]
    }
   ],
   "source": [
    "b1 = np.array([[1.5, 2, 3], [4, 5, 6]], dtype=np.int)\n",
    "b2 = np.array([[1.5, 2+3j, 3], [4, 5, 6]])\n",
    "print('Массив5:\\n {}'.format(b1))\n",
    "\n",
    "print('Массив5:\\n {}'.format(b2))"
   ]
  },
  {
   "cell_type": "markdown",
   "metadata": {},
   "source": [
    "Функция array() не единственная функция для создания массивов. \n",
    "Обычно элементы массива вначале неизвестны, а массив, в котором они будут храниться, уже нужен.\n",
    "Поэтому имеется несколько функций для того, чтобы создавать массивы с каким-то исходным содержимым (по умолчанию тип создаваемого массива — float64).\n",
    "\n",
    "Функция zeros() создает массив из нулей, \n",
    "а функция ones() — массив из единиц. \n",
    "ВАЖНО: Обе функции принимают кортеж с размерами и аргумент dtype."
   ]
  },
  {
   "cell_type": "code",
   "execution_count": 7,
   "metadata": {},
   "outputs": [
    {
     "name": "stdout",
     "output_type": "stream",
     "text": [
      "Массив нулевой:\n",
      " [[0. 0. 0. 0. 0.]\n",
      " [0. 0. 0. 0. 0.]\n",
      " [0. 0. 0. 0. 0.]]\n",
      "Массив единичный:\n",
      " [[1. 1.]\n",
      " [1. 1.]]\n"
     ]
    }
   ],
   "source": [
    "z = np.zeros((3, 5))\n",
    "o = np.ones((2, 2))\n",
    "\n",
    "print('Массив нулевой:\\n {}'.format(z))\n",
    "\n",
    "print('Массив единичный:\\n {}'.format(o))"
   ]
  },
  {
   "cell_type": "markdown",
   "metadata": {},
   "source": [
    "Функция eye() создаёт единичную матрицу (двумерный массив c единичной диагональю)\n",
    "(ВАЖНО: двухмерную диагональную со сдвигом)"
   ]
  },
  {
   "cell_type": "code",
   "execution_count": 11,
   "metadata": {},
   "outputs": [
    {
     "name": "stdout",
     "output_type": "stream",
     "text": [
      "Двумерный массив единичный:\n",
      " [[0. 0. 0. 0. 0.]\n",
      " [0. 0. 0. 0. 0.]\n",
      " [1. 0. 0. 0. 0.]\n",
      " [0. 1. 0. 0. 0.]\n",
      " [0. 0. 1. 0. 0.]]\n"
     ]
    }
   ],
   "source": [
    "mas1 = np.eye(5,k = -2)\n",
    "print('Двумерный массив единичный:\\n {}'.format(mas1))"
   ]
  },
  {
   "cell_type": "markdown",
   "metadata": {},
   "source": [
    "Функция empty() создает массив без его заполнения. \n",
    "Исходное содержимое случайно и зависит от состояния памяти на момент создания массива \n",
    "(то есть от того мусора, что в ней хранится):"
   ]
  },
  {
   "cell_type": "code",
   "execution_count": 12,
   "metadata": {},
   "outputs": [
    {
     "name": "stdout",
     "output_type": "stream",
     "text": [
      "Абсолютно пустой массив :\n",
      " [[1. 1.]\n",
      " [1. 1.]]\n"
     ]
    }
   ],
   "source": [
    "mas2 = np.empty((2, 2))\n",
    "print('Абсолютно пустой массив :\\n {}'.format(mas2))"
   ]
  },
  {
   "cell_type": "markdown",
   "metadata": {},
   "source": [
    "Создать единичную матрица (квадратную) можно с помощью функции identity(N[, dtype])"
   ]
  },
  {
   "cell_type": "code",
   "execution_count": 16,
   "metadata": {},
   "outputs": [
    {
     "name": "stdout",
     "output_type": "stream",
     "text": [
      "Единичная квадратная матрица :\n",
      " [[1 0 0 0]\n",
      " [0 1 0 0]\n",
      " [0 0 1 0]\n",
      " [0 0 0 1]]\n"
     ]
    }
   ],
   "source": [
    "mas22 = np.identity(4,dtype = np.int)\n",
    "print('Единичная квадратная матрица :\\n {}'.format(mas22))"
   ]
  },
  {
   "cell_type": "code",
   "execution_count": null,
   "metadata": {},
   "outputs": [],
   "source": [
    "#range(0,n-1,step)\n",
    "for i in range(0,10):\n",
    "    print(i)"
   ]
  },
  {
   "cell_type": "markdown",
   "metadata": {},
   "source": [
    "Для создания последовательностей чисел, в NumPy имеется функция arange(), аналогичная встроенной в Python range(), \n",
    "только вместо списков она возвращает массивы, и принимает не только целые значения - ВАЖНО!"
   ]
  },
  {
   "cell_type": "code",
   "execution_count": 18,
   "metadata": {},
   "outputs": [
    {
     "name": "stdout",
     "output_type": "stream",
     "text": [
      "Список 1 :\n",
      " [10 15 20 25]\n",
      "Список 2 :\n",
      " [0.  0.1 0.2 0.3 0.4 0.5 0.6 0.7 0.8 0.9]\n",
      "<class 'numpy.ndarray'>\n"
     ]
    }
   ],
   "source": [
    "masaslist1 = np.arange(10, 30, 5)\n",
    "\n",
    "masaslist2 = np.arange(0, 1, 0.1)\n",
    "\n",
    "print('Список 1 :\\n {}'.format(masaslist1))\n",
    "print('Список 2 :\\n {}'.format(masaslist2))\n",
    "\n",
    "print(type(masaslist2))"
   ]
  },
  {
   "cell_type": "markdown",
   "metadata": {},
   "source": [
    "При использовании arange() с аргументами типа float не всегда будешь уверенным в том, сколько элементов будет получено (из-за ограничения точности чисел с плавающей запятой).\n",
    "Поэтому, в таких случаях обычно лучше использовать функцию linspace(), которая вместо шага в качестве одного из аргументов принимает число, равное количеству нужных элементов."
   ]
  },
  {
   "cell_type": "code",
   "execution_count": 19,
   "metadata": {},
   "outputs": [
    {
     "name": "stdout",
     "output_type": "stream",
     "text": [
      "Список из 9 чисел от 0 до 2 включительно :\n",
      " [0.   0.25 0.5  0.75 1.   1.25 1.5  1.75 2.  ]\n"
     ]
    }
   ],
   "source": [
    "\n",
    " # Список из 9 чисел от 0 до 2 включительно\n",
    "list3 = np.linspace(0, 2, 9) \n",
    "print('Список из 9 чисел от 0 до 2 включительно :\\n {}'.format(list3))"
   ]
  },
  {
   "cell_type": "markdown",
   "metadata": {},
   "source": [
    "Иногда требуется применить какую-то функцию ко всем комбинациям индексов (те ко всей матрице/массиву),\n",
    "например каждый элемент массива определить по какому-то выражению.\n",
    "Нам поможет функция fromfunction(имя_функции , кортеж из индексов матрицы)\n",
    "\n",
    " кортеж из индексов матрицы - Форма выходного массива, который также определяет форму массивов координат, переданных в функцию."
   ]
  },
  {
   "cell_type": "code",
   "execution_count": 21,
   "metadata": {},
   "outputs": [
    {
     "name": "stdout",
     "output_type": "stream",
     "text": [
      "Массив , прошедший через функцию:\n",
      " [[  0   1   4   9  16  25  36  49  64  81]\n",
      " [  1   2   5  10  17  26  37  50  65  82]\n",
      " [  4   5   8  13  20  29  40  53  68  85]\n",
      " [  9  10  13  18  25  34  45  58  73  90]\n",
      " [ 16  17  20  25  32  41  52  65  80  97]\n",
      " [ 25  26  29  34  41  50  61  74  89 106]\n",
      " [ 36  37  40  45  52  61  72  85 100 117]\n",
      " [ 49  50  53  58  65  74  85  98 113 130]\n",
      " [ 64  65  68  73  80  89 100 113 128 145]\n",
      " [ 81  82  85  90  97 106 117 130 145 162]]\n"
     ]
    }
   ],
   "source": [
    "def f1(i,j):\n",
    "    x = i**2 + j**2\n",
    "    return x\n",
    "\n",
    "\n",
    "a = np.fromfunction(f1, (10,10),dtype = np.int)\n",
    "print('Массив , прошедший через функцию:\\n {}'.format(a))\n",
    "\n"
   ]
  },
  {
   "cell_type": "markdown",
   "metadata": {},
   "source": [
    "Создать нижную треугольную матрицу (из единиц) позволяет функция tri(N[, M, k, dtype])"
   ]
  },
  {
   "cell_type": "code",
   "execution_count": 24,
   "metadata": {},
   "outputs": [
    {
     "name": "stdout",
     "output_type": "stream",
     "text": [
      "Нижняя треугольная матрица:\n",
      " [[1. 1. 0. 0. 0.]\n",
      " [1. 1. 1. 0. 0.]\n",
      " [1. 1. 1. 1. 0.]]\n"
     ]
    }
   ],
   "source": [
    "mas4 = np.tri(3, 5, k = 1, dtype=np.float)\n",
    "print('Нижняя треугольная матрица:\\n {}'.format(mas4))"
   ]
  },
  {
   "cell_type": "markdown",
   "metadata": {},
   "source": [
    "Для обхода матриц любой размерности в numpy можно использовать функцию --\n",
    "многомерный индексовый итератор np.ndenumerate(), \n",
    "предоставляющий пару:\n",
    "набор координат (кортеж)\n",
    "и значение элемента матрицы"
   ]
  },
  {
   "cell_type": "code",
   "execution_count": 25,
   "metadata": {},
   "outputs": [
    {
     "name": "stdout",
     "output_type": "stream",
     "text": [
      "index = 0-0, x = 1\n",
      "index = 0-1, x = 2\n",
      "index = 1-0, x = 3\n",
      "index = 1-1, x = 4\n"
     ]
    }
   ],
   "source": [
    "a = np.array([[1, 2], [3, 4]])\n",
    "for index, x in np.ndenumerate(a):\n",
    "    print('index = {}-{}, x = {}'.format(index[0],index[1], x))"
   ]
  },
  {
   "cell_type": "markdown",
   "metadata": {},
   "source": [
    "Задание1: Подсчитать произведение ненулевых элементов на диагонали прямоугольной матрицы. \n",
    "Для X =np.array([[1, 0, 1], [2, 0, 2], [3, 0, 3], [4, 4, 4]]) (ответ 3)."
   ]
  },
  {
   "cell_type": "code",
   "execution_count": 26,
   "metadata": {},
   "outputs": [
    {
     "name": "stdout",
     "output_type": "stream",
     "text": [
      "Матрица:\n",
      " [[1 0 1 3]\n",
      " [2 0 2 4]\n",
      " [3 0 3 6]\n",
      " [4 4 4 4]]\n",
      "index = (0, 0), x = 1\n",
      "index = (0, 1), x = 0\n",
      "index = (0, 2), x = 1\n",
      "index = (0, 3), x = 3\n",
      "index = (1, 0), x = 2\n",
      "index = (1, 1), x = 0\n",
      "index = (1, 2), x = 2\n",
      "index = (1, 3), x = 4\n",
      "index = (2, 0), x = 3\n",
      "index = (2, 1), x = 0\n",
      "index = (2, 2), x = 3\n",
      "index = (2, 3), x = 6\n",
      "index = (3, 0), x = 4\n",
      "index = (3, 1), x = 4\n",
      "index = (3, 2), x = 4\n",
      "index = (3, 3), x = 4\n",
      "Произведение ненулевых элементов на диагонали прямоугольной матрицы = 12 \n"
     ]
    }
   ],
   "source": [
    "X = np.array([[1, 0, 1, 3], [2, 0, 2, 4], [3, 0, 3, 6], [4, 4, 4, 4]])\n",
    "print('Матрица:\\n {}'.format(X))\n",
    "mul = 1\n",
    "for index, x in np.ndenumerate(X):\n",
    "    print('index = {}, x = {}'.format(index, x))\n",
    "    if (index[0] == index[1]) & (x > 0):\n",
    "        #print(x)\n",
    "        mul *= x\n",
    "print('Произведение ненулевых элементов на диагонали прямоугольной матрицы = {} '.format(mul))\n",
    "        "
   ]
  },
  {
   "cell_type": "markdown",
   "metadata": {},
   "source": [
    "Задание 2:\n",
    "Найти максимальный элемент в векторе x среди элементов, перед которыми стоит нулевой. \n",
    "Для x = np.array([6, 2, 0, 3, 0, 0, 5, 7, 0]) ответ 5.\n"
   ]
  },
  {
   "cell_type": "code",
   "execution_count": 27,
   "metadata": {},
   "outputs": [
    {
     "name": "stdout",
     "output_type": "stream",
     "text": [
      "Матрица:\n",
      " [6 2 0 3 0 0 5 7 0]\n",
      "максимальный элемент в векторе x среди элементов, перед которыми стоит нулевой = 5 \n"
     ]
    }
   ],
   "source": [
    "mas = np.array([6, 2, 0, 3, 0, 0, 5, 7, 0]) \n",
    "print('Матрица:\\n {}'.format(mas))\n",
    "\n",
    "max_mas = 0\n",
    "for i, x in np.ndenumerate(mas):\n",
    "    #print('index = {}, x = {}'.format(i[0], x))\n",
    "    if  (x == 0) & (len(mas)-1 > i[0]) :\n",
    "        inew = i[0] + 1\n",
    "        \n",
    "        if max_mas< mas[inew]:\n",
    "            max_mas = mas[inew]            \n",
    "       \n",
    "print('максимальный элемент в векторе x среди элементов, перед которыми стоит нулевой = {} '.format(max_mas))"
   ]
  },
  {
   "cell_type": "markdown",
   "metadata": {},
   "source": [
    "Дополнительным преимуществом NumPy является наличие в нем функций агрегирования:\n",
    "min()\n",
    "max()\n",
    "avg()\n",
    "mean()    позволяет получить среднее арифметическое;\n",
    "prod()   выдает результат умножения всех элементов;\n",
    "std()    среднеквадратическое отклонение."
   ]
  },
  {
   "cell_type": "code",
   "execution_count": 28,
   "metadata": {
    "scrolled": true
   },
   "outputs": [
    {
     "name": "stdout",
     "output_type": "stream",
     "text": [
      "Min = -1\n",
      "MAx = 38\n",
      "Avg = 80\n",
      "Mean = 11.4286\n",
      "Mul = -20672\n",
      "std = 15.6375\n"
     ]
    }
   ],
   "source": [
    "l=[1,2,38,4,-1,2,34]\n",
    "mas = np.array(l)\n",
    "\n",
    "\n",
    "print('Min = {}'.format(mas.min()))\n",
    "print('MAx = {}'.format(mas.max()))\n",
    "print('Avg = {}'.format(mas.sum()))\n",
    "print('Mean = {:.4f}'.format(mas.mean()))\n",
    "print('Mul = {}'.format(mas.prod()))\n",
    "print('std = {:.4f}'.format(mas.std()))\n"
   ]
  },
  {
   "cell_type": "markdown",
   "metadata": {},
   "source": [
    "Методы argmin() и argmax() возвращают индексы минимального и\n",
    "максимального элементов по всему массиву или по строкам (столбцам). При\n",
    "определении индекса по всему массиву он вначале выравнивается построчно до\n",
    "одномерного массива. Затем возвращается индекс элемента в таком массиве."
   ]
  },
  {
   "cell_type": "code",
   "execution_count": null,
   "metadata": {},
   "outputs": [],
   "source": [
    "print('Min index = {}'.format(mas.argmin()))\n",
    "print('Max index = {}'.format(mas.argmax()))"
   ]
  },
  {
   "cell_type": "markdown",
   "metadata": {},
   "source": [
    "Арифметические операции над массивами NumPy:\n",
    "\n",
    "Создадим два массива NumPy и посмотрим как можно их использовать.\n",
    "\n",
    "Сложение: При сложении массивов складываются значения каждого ряда. Это сделать очень просто, достаточно написать data + ones:\n",
    "использование абстракций подобного рода не требует написания циклов for с вычислениями. Это отличная абстракция, которая позволяет оценить поставленную задачу на более высоком уровне.\n",
    "\n",
    "Помимо сложения, здесь также можно выполнить следующие простые арифметические операции:вычитание, умножение, деление.\n"
   ]
  },
  {
   "cell_type": "code",
   "execution_count": 29,
   "metadata": {},
   "outputs": [
    {
     "name": "stdout",
     "output_type": "stream",
     "text": [
      "sum = [5 5 7 8]\n",
      "mult = [ 6  4 10 15]\n",
      "subs = [-1  3  3 -2]\n",
      "div = [0.67 4.   2.5  0.6 ]\n"
     ]
    }
   ],
   "source": [
    "one = np.array([2,4,5,3])\n",
    "second= np.array([3,1,2,5])\n",
    "\n",
    "sums = one + second\n",
    "print('sum = {}'.format(sums))\n",
    "\n",
    "mult = one * second\n",
    "print('mult = {}'.format(mult))\n",
    "\n",
    "subs = one - second\n",
    "print('subs = {}'.format(subs))\n",
    "\n",
    "#div = np.around(one / second,2)\n",
    "div = one / second\n",
    "div = np.around(div,2)\n",
    "\n",
    "print('div = {}'.format(div))"
   ]
  },
  {
   "cell_type": "markdown",
   "metadata": {},
   "source": [
    "Довольно часто требуется выполнить какую-то арифметическую операцию между массивом и простым числом: операция между вектором и скалярной величиной. \n",
    "Предположим, что в массиве указано расстояние в милях, и его нужно перевести в километры. \n",
    "Для этого нужно выполнить операцию data * 1.6:\n",
    "NumPy  умножает на указанное число  каждый элемент массива. \n",
    "Данная концепт называется трансляцией, или broadcating."
   ]
  },
  {
   "cell_type": "code",
   "execution_count": 30,
   "metadata": {},
   "outputs": [
    {
     "name": "stdout",
     "output_type": "stream",
     "text": [
      "Растояния в милях = [23.45  2.    3.   44.6 ]\n",
      "Растояния в км = [37.52  3.2   4.8  71.36]\n"
     ]
    }
   ],
   "source": [
    "data = [23.45, 2, 3, 44.6]\n",
    "\n",
    "data = np.array(data)\n",
    "data_km = data * 1.6\n",
    "\n",
    "print('Растояния в милях = {}'.format(data))\n",
    "print('Растояния в км = {}'.format(data_km))\n"
   ]
  },
  {
   "cell_type": "markdown",
   "metadata": {},
   "source": [
    "Индексация массива NumPy\n",
    "\n",
    "Массив NumPy можно разделить на части, используя индексы. Принцип работы похож на то, как это происходит со списками Python.\n",
    "\n",
    "\n"
   ]
  },
  {
   "cell_type": "code",
   "execution_count": 31,
   "metadata": {},
   "outputs": [
    {
     "name": "stdout",
     "output_type": "stream",
     "text": [
      "[23. 45.  2.]\n",
      "[45.  2.  3. 46.]\n",
      "3.0\n"
     ]
    }
   ],
   "source": [
    "\n",
    "data = np.array([23, 45, 2, 3, 46, 23.45, 2, 3, 44, 6])\n",
    "\n",
    "print(data[0:3])\n",
    "print(data[1:5])\n",
    "\n",
    "print(data[3])"
   ]
  },
  {
   "cell_type": "code",
   "execution_count": 32,
   "metadata": {},
   "outputs": [
    {
     "name": "stdout",
     "output_type": "stream",
     "text": [
      "[[23.   45.    3.  ]\n",
      " [46.   23.45  2.  ]\n",
      " [ 3.   44.    6.  ]]\n"
     ]
    }
   ],
   "source": [
    "data = np.array([[23,45, 3],[46, 23.45, 2],[3,44,6]])\n",
    "print(data)"
   ]
  },
  {
   "cell_type": "code",
   "execution_count": 35,
   "metadata": {},
   "outputs": [
    {
     "name": "stdout",
     "output_type": "stream",
     "text": [
      "[[ 1  4  5 12 14]\n",
      " [-5  8  9  0 17]\n",
      " [-6  7 11 19 21]]\n",
      "[[ 1  4  5 12]\n",
      " [-5  8  9  0]]\n"
     ]
    }
   ],
   "source": [
    "#можем вырезать части из массива  с помощью срезов\n",
    "\n",
    "#print(data[1][2])\n",
    "#print(data[1:3])\n",
    "\n",
    "# из матрицы можно вырезать , указав срезы по  \n",
    "A = np.array([[1, 4, 5, 12, 14], \n",
    "    [-5, 8, 9, 0, 17],\n",
    "    [-6, 7, 11, 19, 21]])\n",
    "print(A)\n",
    "print(A[:2, :4])  # две строки, четыре столбца"
   ]
  },
  {
   "cell_type": "markdown",
   "metadata": {},
   "source": [
    "К элементам массива можно применять различные функции.\n",
    "Функции, определенные для массивов:\n",
    "trunc(x)\tотбрасывание дробной части (по элементам)\n",
    "floor(x)\tцелая часть\n",
    "ceil(x)\tминимальное целое большее числа\n",
    "sign(x)\tзнаки элементов\n",
    "conj(x)\tкомплексное сопряжение (по элементам).\n",
    "exp(x)\tэкспонента (по элементам)\n",
    "exp2(x)\t2**элемент (по элементам)\n",
    "log(x)\tнатуральный логарифм (по элементам)\n",
    "log2(x)\tдвоичный логарифм (по элементам)\n",
    "log10(x)\tдесятичный логарифм (по элементам)\n",
    "expm1(x)\texp(x) - 1 (по элементам)\n",
    "log1p(x)\tReturn the natural logarithm of one plus the input array, element-wise.\n",
    "    sqrt(x)\tквадратный корень (для положительных) (по элементам)\n",
    "square(x)\tквадрат (по элементам)\n",
    "\n",
    "x – массив\n",
    "out – место для результата"
   ]
  },
  {
   "cell_type": "code",
   "execution_count": 36,
   "metadata": {},
   "outputs": [
    {
     "name": "stdout",
     "output_type": "stream",
     "text": [
      "Массив исходный = [1 2 3 1 2 1]\n",
      "Массив log = [0.    0.693 1.099 0.    0.693 0.   ]\n",
      "Массив квадратов элементов = [1 4 9 1 4 1]\n"
     ]
    }
   ],
   "source": [
    "import numpy as np\n",
    "mas = np.array([1,2,3,1,2,1])\n",
    "\n",
    "mas2 = np.around(np.log(mas),3)\n",
    "mas3 = np.square(mas)\n",
    "\n",
    "print('Массив исходный = {}'.format(mas))\n",
    "\n",
    "print('Массив log = {}'.format(mas2))\n",
    "\n",
    "print('Массив квадратов элементов = {}'.format(mas3))"
   ]
  },
  {
   "cell_type": "markdown",
   "metadata": {},
   "source": [
    "Элементы линейной алгебры.\n",
    "Функции подмодуля numpy.linalg  реализует основные\n",
    "операции линейной алгебры. \n",
    "Здесь мы опишем только наиболее важные функции этих модулей. При\n",
    "этом для краткости не будем упоминать о необязательных аргументах многих\n",
    "функций. В тех случаях, когда они есть, но мы о них не упоминаем, в описании\n",
    "будут использоваться квадратные скобки, означающие необязательность, и\n",
    "троеточие, обозначающее пропуск в описании одного или нескольких\n",
    "аргументов. Например, norm(a[,ord,...]) означает, что a является\n",
    "обязательным аргументом, кроме того может использоваться необязательный\n",
    "аргумент ord и могут быть другие необязательные аргументы. \n",
    "\n",
    "\n",
    "Функция det(a[,...]) вычисляет определитель квадратной матрицы.\n",
    "\n",
    "Функция norm(a[,ord,...]) вычисляет норму массива (вектора или\n",
    "матрицы).\n",
    "Второй аргумент определяет вид нормы (Евклида, Фробениуса, Минковского и\n",
    "т.д.). Если аргумент ord опущен, то вычисляется норма Евклида.\n"
   ]
  },
  {
   "cell_type": "code",
   "execution_count": 37,
   "metadata": {},
   "outputs": [
    {
     "name": "stdout",
     "output_type": "stream",
     "text": [
      "Массив исходный =\n",
      " [[1 2]\n",
      " [3 1]]\n",
      "Определитель матрицы =\n",
      " -5.00\n",
      "Норма матрицы =\n",
      " 3.87\n"
     ]
    }
   ],
   "source": [
    "import numpy as np\n",
    "import numpy.linalg as nplg\n",
    "mas = np.array([[1,2],[3,1]])\n",
    "\n",
    "print('Массив исходный =\\n {}'.format(mas))\n",
    "det_mas = nplg.det(mas)\n",
    "print('Определитель матрицы =\\n {:.2f}'.format(det_mas))\n",
    "norm_mas = nplg.norm(mas)\n",
    "print('Норма матрицы =\\n {:.2f}'.format(norm_mas))"
   ]
  },
  {
   "cell_type": "code",
   "execution_count": 38,
   "metadata": {},
   "outputs": [
    {
     "name": "stdout",
     "output_type": "stream",
     "text": [
      "3.872983346207417\n"
     ]
    }
   ],
   "source": [
    "sum_kv = np.square(mas)\n",
    "print(sum_kv.sum()**(1/2))"
   ]
  },
  {
   "cell_type": "markdown",
   "metadata": {},
   "source": [
    "Функция inv(a[,...]) вычисляет обратную матрицу/массив.\n",
    "Проверим, что a*a1=I. \n"
   ]
  },
  {
   "cell_type": "code",
   "execution_count": 39,
   "metadata": {},
   "outputs": [
    {
     "name": "stdout",
     "output_type": "stream",
     "text": [
      "Матрица исходный =\n",
      " [[1 2]\n",
      " [3 1]]\n",
      "Матрица обратная  =\n",
      " [[-0.2  0.4]\n",
      " [ 0.6 -0.2]]\n"
     ]
    }
   ],
   "source": [
    "mas = np.array([[1,2],[3,1]])\n",
    "\n",
    "print('Матрица исходный =\\n {}'.format(mas))\n",
    "\n",
    "mas_obr = nplg.inv(mas)\n",
    "\n",
    "print('Матрица обратная  =\\n {}'.format(mas_obr))"
   ]
  },
  {
   "cell_type": "code",
   "execution_count": 41,
   "metadata": {},
   "outputs": [
    {
     "name": "stdout",
     "output_type": "stream",
     "text": [
      "Матрица единичная  =\n",
      " [[1. 0.]\n",
      " [0. 1.]]\n"
     ]
    }
   ],
   "source": [
    "mas_ones = mas * mas_obr\n",
    "#print('Матрица обратная  =\\n {}'.format(mas_ones))\n",
    "\n",
    "\n",
    "#dot(a, b)\tскалярное произведение массивов\n",
    "\n",
    "\n",
    "mas_ones2 = np.dot(mas , mas_obr)\n",
    "\n",
    "print('Матрица единичная  =\\n {}'.format(mas_ones2))"
   ]
  },
  {
   "cell_type": "markdown",
   "metadata": {},
   "source": [
    "Функция solve(a,b) решает систему линейных уравнений\n",
    "A*x = b, где\n",
    "A – квадратная матрица (массив) коэффициентов, \n",
    "а b – вектор (массив) правыхчастей системы."
   ]
  },
  {
   "cell_type": "code",
   "execution_count": null,
   "metadata": {},
   "outputs": [],
   "source": []
  },
  {
   "cell_type": "markdown",
   "metadata": {},
   "source": [
    "Решение систем линейных алгебраических уравнений:\n",
    "1. A* x = b - Матричная запись системы\n",
    "2. убедиться, что решение есть, или их много, или не существует: найти ранг матрицы и ранг расширенной матрицы\n",
    "3. найти решение одним из способов (обратная матрица, функция solve)\n",
    "\n"
   ]
  },
  {
   "cell_type": "code",
   "execution_count": 42,
   "metadata": {},
   "outputs": [],
   "source": [
    "A = np.array([[1,2,1,1],[-2,2,0,0],[1,3,1,2],[4,1,1,2]])\n",
    "b = np.array([-1,1,3,4])\n"
   ]
  },
  {
   "cell_type": "markdown",
   "metadata": {},
   "source": [
    "Теперь надо убедиться, что решения либо существуют , либо нет.\n",
    "Поговорим о ранге матрицы\n",
    "Ранг матрицы является еще одной важной численной характеристикой матрицы. \n",
    "Рангом называют максимальное число линейно независимых строк (столбцов) матрицы. \n",
    "Линейная независимость означает, что строки (столбцы) не могут быть линейно выражены через другие строки (столбцы). \n",
    "Ранг матрицы можно найти через ее миноры, он равен наибольшему порядку минора, который не равен нулю. \n",
    "Существование ранга у матрицы не зависит от того квадратная она или нет.\n",
    "np.linalg.matrix_rank() возвращает ранг матрицы."
   ]
  },
  {
   "cell_type": "code",
   "execution_count": 43,
   "metadata": {},
   "outputs": [
    {
     "name": "stdout",
     "output_type": "stream",
     "text": [
      "4\n"
     ]
    }
   ],
   "source": [
    "rank = np.linalg.matrix_rank(A)\n",
    "print(rank)"
   ]
  },
  {
   "cell_type": "markdown",
   "metadata": {},
   "source": [
    "Чтобы найти ранг расширенной матрицы необходимо соединить матрицу А и в.\n",
    "\n",
    "Поговорим об объединении массивов в numpy.\n",
    "Несколько массивов могут быть объединены вместе вдоль разных осей с помощью функций hstack и vstack.\n",
    "\n",
    "hstack() объединяет массивы по первым осям, \n",
    "vstack() — по последним.\n",
    "Функция column_stack() объединяет одномерные массивы в качестве столбцов двумерного массива.\n",
    "Аналогично для строк имеется функция row_stack()."
   ]
  },
  {
   "cell_type": "code",
   "execution_count": 44,
   "metadata": {},
   "outputs": [
    {
     "name": "stdout",
     "output_type": "stream",
     "text": [
      "A:\n",
      " [[ 1  2  1  1]\n",
      " [-2  2  0  0]\n",
      " [ 1  3  1  2]\n",
      " [ 4  1  1  2]]\n",
      "b:\n",
      " [-1  1  3  4]\n",
      "Ab:\n",
      " [[ 1  2  1  1 -1]\n",
      " [-2  2  0  0  1]\n",
      " [ 1  3  1  2  3]\n",
      " [ 4  1  1  2  4]]\n"
     ]
    }
   ],
   "source": [
    "print('A:\\n {}'.format(A))\n",
    "print('b:\\n {}'.format(b))\n",
    "\n",
    "\n",
    "Ab = np.column_stack((A,b))\n",
    "\n",
    "\n",
    "print('Ab:\\n {}'.format(Ab))\n"
   ]
  },
  {
   "cell_type": "code",
   "execution_count": 45,
   "metadata": {},
   "outputs": [
    {
     "name": "stdout",
     "output_type": "stream",
     "text": [
      "4\n"
     ]
    }
   ],
   "source": [
    "rank1= np.linalg.matrix_rank(Ab)\n",
    "print(rank1)\n"
   ]
  },
  {
   "cell_type": "markdown",
   "metadata": {},
   "source": [
    "если ранг и ранг расширенной матрицы равны и равны m = n, то имеется одно решение.\n",
    "если ранг меньше ранга расширенной матрицы - решения нет\n"
   ]
  },
  {
   "cell_type": "code",
   "execution_count": 46,
   "metadata": {},
   "outputs": [
    {
     "name": "stdout",
     "output_type": "stream",
     "text": [
      "Решение системы: \n",
      "[ 2.   2.5 -9.5  1.5]\n"
     ]
    }
   ],
   "source": [
    "# первый способ: с помощью обратной матрицы\n",
    "#Ax=B=> x = A^(-1)*b\n",
    "# x = A^-1  * b\n",
    "A_obr = nplg.inv(A)\n",
    "\n",
    "#x1 = A_obr * b\n",
    "x = np.dot(A_obr , b)\n",
    "\n",
    "print('Решение системы: \\n{}'.format(x))\n"
   ]
  },
  {
   "cell_type": "code",
   "execution_count": 47,
   "metadata": {},
   "outputs": [
    {
     "name": "stdout",
     "output_type": "stream",
     "text": [
      "Решение системы: \n",
      "[ 2.   2.5 -9.5  1.5]\n"
     ]
    }
   ],
   "source": [
    "#второй способ: solve\n",
    "\n",
    "\n",
    "x2 = nplg.solve(A,b)\n",
    "print('Решение системы: \\n{}'.format(x2))"
   ]
  },
  {
   "cell_type": "code",
   "execution_count": 48,
   "metadata": {},
   "outputs": [
    {
     "name": "stdout",
     "output_type": "stream",
     "text": [
      "[-1.  1.  3.  4.]\n"
     ]
    }
   ],
   "source": [
    "#Проверка 1 :\n",
    "\n",
    "b = np.dot(A , x)\n",
    "print('{}'.format(b))"
   ]
  },
  {
   "cell_type": "code",
   "execution_count": null,
   "metadata": {},
   "outputs": [],
   "source": []
  }
 ],
 "metadata": {
  "kernelspec": {
   "display_name": "Python 3 (ipykernel)",
   "language": "python",
   "name": "python3"
  },
  "language_info": {
   "codemirror_mode": {
    "name": "ipython",
    "version": 3
   },
   "file_extension": ".py",
   "mimetype": "text/x-python",
   "name": "python",
   "nbconvert_exporter": "python",
   "pygments_lexer": "ipython3",
   "version": "3.9.7"
  }
 },
 "nbformat": 4,
 "nbformat_minor": 4
}
