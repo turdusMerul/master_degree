{
 "cells": [
  {
   "cell_type": "markdown",
   "metadata": {},
   "source": [
    "# УСЛОВИЕ\n",
    "\n",
    "Напишите функцию, которая находит наибольший общий делитель (НОД) введенных чисел\n"
   ]
  },
  {
   "cell_type": "markdown",
   "metadata": {},
   "source": [
    "# РЕШЕНИЕ"
   ]
  },
  {
   "cell_type": "code",
   "execution_count": 38,
   "metadata": {},
   "outputs": [
    {
     "data": {
      "text/plain": [
       "8"
      ]
     },
     "execution_count": 38,
     "metadata": {},
     "output_type": "execute_result"
    }
   ],
   "source": [
    "def get_multipliers(number: int) -> list:\n",
    "    multipliers = []\n",
    "    for multiplier in range(1, number + 1):\n",
    "        if number % multiplier == 0: multipliers.append(multiplier)\n",
    "    return multipliers\n",
    "\n",
    "\n",
    "def get_max_nod(numbers: list) -> int:\n",
    "    nums_dict = {number: get_multipliers(number) for number in numbers}\n",
    "    common_multipliers = {}\n",
    "\n",
    "    for _, multipliers in nums_dict.items():\n",
    "        for multiplier in multipliers:\n",
    "            common_multipliers[multiplier] = common_multipliers[multiplier] + 1 if multiplier in common_multipliers else 1\n",
    "    return max([multiplier for multiplier, count in common_multipliers.items() if count == len(set(numbers))])\n",
    "\n",
    "\n",
    "get_max_nod([48, 16, 24, 48, 24])"
   ]
  }
 ],
 "metadata": {
  "interpreter": {
   "hash": "45d0af7ab348dae76f87bae14ebdd0b3c3b9aece9ade51dea5595c502b771242"
  },
  "kernelspec": {
   "display_name": "Python 3.10.2 ('.stud_linux_env': venv)",
   "language": "python",
   "name": "python3"
  },
  "language_info": {
   "codemirror_mode": {
    "name": "ipython",
    "version": 3
   },
   "file_extension": ".py",
   "mimetype": "text/x-python",
   "name": "python",
   "nbconvert_exporter": "python",
   "pygments_lexer": "ipython3",
   "version": "3.10.2"
  },
  "orig_nbformat": 4
 },
 "nbformat": 4,
 "nbformat_minor": 2
}
