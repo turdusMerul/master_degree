{
 "cells": [
  {
   "cell_type": "markdown",
   "metadata": {},
   "source": [
    "# УСЛОВИЕ\n",
    "\n",
    "При регистрации на сайтах требуется вводить пароль дважды. Это сделано для безопасности, поскольку такой подход уменьшает возможность неверного ввода пароля.\n",
    "\n",
    "Напишите программу, которая сравнивает пароль и его подтверждение. Если они совпадают, то программа выводит: «Пароль принят», иначе: «Пароль не принят».\n",
    "\n",
    "<img src=\"https://puu.sh/IZGC8/4778d680aa.png\" />"
   ]
  },
  {
   "cell_type": "markdown",
   "metadata": {},
   "source": [
    "# РЕШЕНИЕ"
   ]
  },
  {
   "cell_type": "code",
   "execution_count": 1,
   "metadata": {},
   "outputs": [
    {
     "name": "stdout",
     "output_type": "stream",
     "text": [
      "Пароль принят\n"
     ]
    }
   ],
   "source": [
    "password = input(\"Введите пароль: \")\n",
    "retry = input(\"Введите подтверждение пароля: \")\n",
    "print(f\"Пароль {'не ' if password != retry else ''}принят\")"
   ]
  }
 ],
 "metadata": {
  "interpreter": {
   "hash": "45d0af7ab348dae76f87bae14ebdd0b3c3b9aece9ade51dea5595c502b771242"
  },
  "kernelspec": {
   "display_name": "Python 3.10.2 ('.stud_linux_env': venv)",
   "language": "python",
   "name": "python3"
  },
  "language_info": {
   "codemirror_mode": {
    "name": "ipython",
    "version": 3
   },
   "file_extension": ".py",
   "mimetype": "text/x-python",
   "name": "python",
   "nbconvert_exporter": "python",
   "pygments_lexer": "ipython3",
   "version": "3.10.2"
  },
  "orig_nbformat": 4
 },
 "nbformat": 4,
 "nbformat_minor": 2
}
