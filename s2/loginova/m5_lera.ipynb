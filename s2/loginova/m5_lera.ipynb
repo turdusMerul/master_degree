{
 "cells": [
  {
   "cell_type": "markdown",
   "metadata": {},
   "source": [
    "# УСЛОВИЕ\n",
    "\n",
    "Пусть карточка для игры в лото состоит из пяти колонок, в каждой из которых пять номеров. Колонки помечены буквами B , I , N , G и O . Под каждой буквой могут быть номера в своем диапазоне из 15 чисел. А именно под буквой B могут присутствовать числа от 1 до 15, под I – от 16 до 30, под N – от 31 до 45 и т. д. \n",
    "\n",
    "- Напишите функцию, которая будет создавать случайную карточку лото и сохранять ее в словаре. Ключами словаря будут буквы B , I , N , G и O , а значениями – списки из пяти чисел, располагающихся в колонке под каждой буквой. \n",
    "\n",
    "- Создайте еще одну функцию для отображения созданной карточки лото на экране со столбцами с заголовками. В основной программе создайте карту лото случайным образом и выведите ее на экран.\n",
    "\n",
    "Пример карточки:\n",
    "\n",
    "<img src=\"https://puu.sh/IZR3b/fdadeb2c61.png\" />"
   ]
  },
  {
   "cell_type": "markdown",
   "metadata": {},
   "source": [
    "# РЕШЕНИЕ"
   ]
  },
  {
   "cell_type": "code",
   "execution_count": 14,
   "metadata": {},
   "outputs": [],
   "source": [
    "from random import randint\n",
    "\n",
    "\n",
    "def create_bingo() -> dict:\n",
    "    \"\"\"Возвращает словарь из 5-ти числовых списков\"\"\"\n",
    "    \n",
    "    # Создание пустого словаря\n",
    "    card = {\n",
    "        \"B\": [],\n",
    "        \"I\": [],\n",
    "        \"N\": [],\n",
    "        \"G\": [],\n",
    "        \"O\": []\n",
    "    }\n",
    "\n",
    "    # Первичное определение верхнего потолка\n",
    "    # чисел для заполнения карточки\n",
    "    range_fin = 0\n",
    "\n",
    "    for key, _ in card.items():\n",
    "        # Переопределение ограничений\n",
    "        range_start, range_fin = range_fin + 1, range_fin + 15\n",
    "        \n",
    "        for _ in range(5):\n",
    "            # Запись 5-ти случайных чисел в карту\n",
    "            card[key].append(randint(range_start, range_fin))\n",
    "    \n",
    "    return card\n",
    "\n",
    "\n",
    "def show_bingo(bingo_card: dict) -> None:\n",
    "    \"\"\"Функция для табличного отображения карточки Бинго.\n",
    "    В качестве оргумента принимает словарь и выводит его на печать\"\"\"\n",
    "    \n",
    "    # Объявление схемы отрисовки таблицы\n",
    "    scheme = \"{:<5} {:<5} {:<5} {:<5} {:<5}\"\n",
    "\n",
    "    # Вывод на печать шапки таблицы\n",
    "    print(scheme.format(\"B\", \"I\", \"N\", \"G\", \"O\"))\n",
    "    \n",
    "    # Распаковка чисел карточки и вывод на печать\n",
    "    for nums in bingo_card.values():\n",
    "        n1, n2, n3, n4, n5 = nums\n",
    "        print(scheme.format(n1, n2, n3, n4, n5))"
   ]
  },
  {
   "cell_type": "markdown",
   "metadata": {},
   "source": [
    "# ТЕСТЫ"
   ]
  },
  {
   "cell_type": "code",
   "execution_count": 15,
   "metadata": {},
   "outputs": [
    {
     "name": "stdout",
     "output_type": "stream",
     "text": [
      "B     I     N     G     O    \n",
      "4     7     9     1     9    \n",
      "17    22    26    26    29   \n",
      "37    38    37    34    35   \n",
      "46    48    47    56    51   \n",
      "75    74    70    73    63   \n"
     ]
    }
   ],
   "source": [
    "new_card = create_bingo()\n",
    "show_bingo(new_card)"
   ]
  }
 ],
 "metadata": {
  "interpreter": {
   "hash": "179cb509d65a00bf5ff4e86f560421301395c2e2ae7d972b1d9822e754c89843"
  },
  "kernelspec": {
   "display_name": "Python 3.10.2 ('.stud_env': venv)",
   "language": "python",
   "name": "python3"
  },
  "language_info": {
   "codemirror_mode": {
    "name": "ipython",
    "version": 3
   },
   "file_extension": ".py",
   "mimetype": "text/x-python",
   "name": "python",
   "nbconvert_exporter": "python",
   "pygments_lexer": "ipython3",
   "version": "3.10.2"
  },
  "orig_nbformat": 4
 },
 "nbformat": 4,
 "nbformat_minor": 2
}
