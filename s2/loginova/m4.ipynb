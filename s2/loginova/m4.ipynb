{
 "cells": [
  {
   "cell_type": "markdown",
   "metadata": {},
   "source": [
    "# УСЛОВИЕ\n",
    "\n",
    "Разработать программу, в которой у пользователя запрашивается список слов, пока он не оставит строку ввода пустой.\n",
    "\n",
    "- После этого на экране должны быть показаны слова, введенные пользователем, но без повторов, – каждое по одному разу.\n",
    "- При этом слова должны быть отображены в том же порядке, в каком их вводили с клавиатуры.\n",
    "- Например, если пользователь на запрос программы введет следующий список слов: First second first third second, программа должна вывести: first second third\n"
   ]
  },
  {
   "cell_type": "markdown",
   "metadata": {},
   "source": [
    "# РЕШЕНИЕ"
   ]
  },
  {
   "cell_type": "code",
   "execution_count": 3,
   "metadata": {},
   "outputs": [
    {
     "name": "stdout",
     "output_type": "stream",
     "text": [
      "first second third\n"
     ]
    }
   ],
   "source": [
    "words = []\n",
    "\n",
    "while True:\n",
    "    word = input(\"Введите слово для внесения в список или оставьте ввод пустым для обработки введённых значений: \").lower()\n",
    "    if word == \"\": break\n",
    "    if  word not in words: words.append(word)\n",
    "\n",
    "print(\" \".join(words))"
   ]
  }
 ],
 "metadata": {
  "interpreter": {
   "hash": "45d0af7ab348dae76f87bae14ebdd0b3c3b9aece9ade51dea5595c502b771242"
  },
  "kernelspec": {
   "display_name": "Python 3.10.2 ('.stud_linux_env': venv)",
   "language": "python",
   "name": "python3"
  },
  "language_info": {
   "codemirror_mode": {
    "name": "ipython",
    "version": 3
   },
   "file_extension": ".py",
   "mimetype": "text/x-python",
   "name": "python",
   "nbconvert_exporter": "python",
   "pygments_lexer": "ipython3",
   "version": "3.10.2"
  },
  "orig_nbformat": 4
 },
 "nbformat": 4,
 "nbformat_minor": 2
}
