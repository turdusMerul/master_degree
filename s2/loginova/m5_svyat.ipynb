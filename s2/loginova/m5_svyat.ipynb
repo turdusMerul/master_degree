{
 "cells": [
  {
   "cell_type": "markdown",
   "metadata": {},
   "source": [
    "# УСЛОВИЕ\n",
    "\n",
    "Напишите функцию с названием reversLook, которая будет осуществлять поиск всех ключей в словаре по заданному значению. Функция должна принимать в качестве параметров словарь и значение для поиска и возвращать список ключей (он может быть пустым) из этого словаря, соответствующих переданному значению. В основной программе продемонстрируйте работу функции путем создания словаря и поиска в нем всех ключей по заданному значению. Убедитесь, что функция работает корректно при наличии нескольких ключей для искомого значения, одного ключа и их отсутствии."
   ]
  },
  {
   "cell_type": "markdown",
   "metadata": {},
   "source": [
    "# РЕШЕНИЕ"
   ]
  },
  {
   "cell_type": "code",
   "execution_count": 1,
   "metadata": {},
   "outputs": [],
   "source": [
    "def reversLook(_dict: dict, _value: str) -> list:\n",
    "    \"\"\"Принимает в качестве параметров словарь и значение для поиска.\n",
    "    Осуществляет поиск всех ключей в словаре по заданному значению\n",
    "    и возвращает список ключей (он может быть пустым) из этого словаря,\n",
    "    соответствующих переданному значению\"\"\"\n",
    "\n",
    "    # Список подходящих ключей\n",
    "    __keys = []\n",
    "\n",
    "    # Перебор значений для каждой\n",
    "    # парый ключ, значение в словаре\n",
    "    # при совпадении значения с искомым\n",
    "    # записывает ключ в список\n",
    "    for __key, __value in _dict.items(): \n",
    "        if __value == _value:\n",
    "            __keys.append(__key)\n",
    "    \n",
    "    # Возвращает список подходящих ключей\n",
    "    return __keys"
   ]
  },
  {
   "cell_type": "markdown",
   "metadata": {},
   "source": [
    "# ТЕСТЫ"
   ]
  },
  {
   "cell_type": "code",
   "execution_count": 2,
   "metadata": {},
   "outputs": [
    {
     "name": "stdout",
     "output_type": "stream",
     "text": [
      "При наличии нескольких ключей ['a1', 'a2', 'a3']\n",
      "При наличии одного ключа ['b1']\n",
      "При отсутствии ключей []\n"
     ]
    }
   ],
   "source": [
    "test_dict = {\n",
    "    \"a1\": \"aaa\",\n",
    "    \"b1\": \"bbb\",\n",
    "    \"a2\": \"aaa\",\n",
    "    \"a3\": \"aaa\"\n",
    "}\n",
    "\n",
    "print(\"При наличии нескольких ключей\", reversLook(test_dict, \"aaa\"))\n",
    "print(\"При наличии одного ключа\", reversLook(test_dict, \"bbb\"))\n",
    "print(\"При отсутствии ключей\", reversLook(test_dict, \"ccc\"))"
   ]
  }
 ],
 "metadata": {
  "interpreter": {
   "hash": "5ef4841162f79949e1a869d41cdba80de50f450cdd77a530598465f6db708fd2"
  },
  "kernelspec": {
   "display_name": "Python 3.10.2 64-bit",
   "language": "python",
   "name": "python3"
  },
  "language_info": {
   "codemirror_mode": {
    "name": "ipython",
    "version": 3
   },
   "file_extension": ".py",
   "mimetype": "text/x-python",
   "name": "python",
   "nbconvert_exporter": "python",
   "pygments_lexer": "ipython3",
   "version": "3.10.2"
  },
  "orig_nbformat": 4
 },
 "nbformat": 4,
 "nbformat_minor": 2
}
