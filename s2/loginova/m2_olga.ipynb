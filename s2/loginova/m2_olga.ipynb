{
 "cells": [
  {
   "cell_type": "markdown",
   "metadata": {},
   "source": [
    "Задание 2. На языке Python в консольном режиме составить программное обеспечение для решения задачи программирования по тематике «NumPy”:\n",
    "Система линейных алгебраических уравнений задана в общем виде:\n",
    "\n",
    "<img src=\"https://puu.sh/IZGHX/48682ef7dc.png\" />\n",
    "\n",
    "Решить следующие системы из m уравнений с k неизвестными в Python двумя методами (обратная матрица, solve); проверить правильность решений:\n",
    "\n",
    "1.1.m=k=3,\n",
    "\n",
    "1.2.m=4, k=3, к системе из п.1.1 добавить четвертое уравнение, полученное как сумма первого и второго уравнений.\n",
    "\n",
    "Внимание: коэффициенты и свободные члены уравнений необходимо взять из таблицы 1 данных методических указаний.\n",
    "\n",
    "<img src=\"https://puu.sh/IZGEe/2dbc4877ad.png\" />"
   ]
  },
  {
   "cell_type": "code",
   "execution_count": 2,
   "metadata": {},
   "outputs": [
    {
     "name": "stdout",
     "output_type": "stream",
     "text": [
      "[ 2.   2.5 -9.5  1.5]\n"
     ]
    }
   ],
   "source": [
    "import numpy as np\n",
    "\n",
    "\n",
    "def is_solve_exists(_array: np.ndarray, _vector: np.ndarray) -> tuple:\n",
    "    \"\"\"Возвращает 2 параметра:\n",
    "    1ый - есть ли решение системы уровнений\n",
    "    2ой - имеется ли более одного решения\"\"\"\n",
    "    __array_rank = np.linalg.matrix_rank(_array)\n",
    "    __array_extended = np.column_stack((_array, _vector))\n",
    "    __extended_rank = np.linalg.matrix_rank(__array_extended)\n",
    "    return (__array_rank >= __extended_rank, __array_rank > __extended_rank)\n",
    "\n",
    "\n",
    "def compare_arrays(_array1: np.ndarray, _array2: np.ndarray) -> bool:\n",
    "    \"\"\"Проверяет совпадают ли массивы и возвращает булевое значение\"\"\"\n",
    "    __checking_arr = np.array([1.0, 1.0, 1.0, 1.0])\n",
    "    return not ((_array1 / _array2) - __checking_arr).all()\n",
    "\n",
    "\n",
    "def solve_system(_array: np.ndarray, _vector: np.ndarray) -> np.ndarray:\n",
    "    \"\"\"Возвращает решение системы уровнений, если оно имеется, иначе None\"\"\"\n",
    "    __arr_reversed = np.linalg.inv(_array)\n",
    "    __by_method1 = np.dot(__arr_reversed, _vector)\n",
    "    __by_method2 = np.linalg.solve(_array, _vector)\n",
    "    __test1 = compare_arrays(__by_method1, __by_method2)\n",
    "    __test2 = compare_arrays(_vector, np.dot(_array , __by_method1))\n",
    "    if __test1 and __test2:\n",
    "        return __by_method1\n",
    "\n",
    "\n",
    "def module_test() -> None:\n",
    "    \"\"\"Функция тестирования данного модуля\"\"\"\n",
    "    arr_A = np.array(\n",
    "            [[1, 2, 1, 1], \n",
    "            [-2, 2, 0, 0], \n",
    "            [1, 3, 1, 2],\n",
    "            [4, 1, 1, 2]]\n",
    "        )\n",
    "\n",
    "    arr_b = np.array([-1, 1, 3, 4])\n",
    "    solve_exists_check, is_many_answers = is_solve_exists(arr_A, arr_b)\n",
    "\n",
    "    if solve_exists_check:\n",
    "        print(solve_system(arr_A, arr_b))\n",
    "\n",
    "\n",
    "if __name__ == \"__main__\":\n",
    "    module_test()"
   ]
  }
 ],
 "metadata": {
  "interpreter": {
   "hash": "5ef4841162f79949e1a869d41cdba80de50f450cdd77a530598465f6db708fd2"
  },
  "kernelspec": {
   "display_name": "Python 3.10.2 64-bit",
   "language": "python",
   "name": "python3"
  },
  "language_info": {
   "codemirror_mode": {
    "name": "ipython",
    "version": 3
   },
   "file_extension": ".py",
   "mimetype": "text/x-python",
   "name": "python",
   "nbconvert_exporter": "python",
   "pygments_lexer": "ipython3",
   "version": "3.10.2"
  },
  "orig_nbformat": 4
 },
 "nbformat": 4,
 "nbformat_minor": 2
}
