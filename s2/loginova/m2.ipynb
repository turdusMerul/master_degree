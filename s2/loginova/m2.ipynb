{
 "cells": [
  {
   "cell_type": "markdown",
   "metadata": {},
   "source": [
    "<p>\n",
    "    <img src=\"https://i.imgur.com/IrLUNt3.png\" />\n",
    "    <img src=\"https://i.imgur.com/8V5b2nx.png\" />\n",
    "</p>"
   ]
  },
  {
   "cell_type": "code",
   "execution_count": 1,
   "metadata": {},
   "outputs": [
    {
     "name": "stdout",
     "output_type": "stream",
     "text": [
      "[ 0.25048639  0.33629147  0.13823804 -1.43113866]\n"
     ]
    }
   ],
   "source": [
    "import numpy as np\n",
    "\n",
    "\n",
    "def is_solve_exists(_array: np.ndarray, _vector: np.ndarray) -> tuple:\n",
    "    \"\"\"Возвращает 2 параметра:\n",
    "    1ый - есть ли решение системы уровнений\n",
    "    2ой - имеется ли более одного решения\"\"\"\n",
    "    __array_rank = np.linalg.matrix_rank(_array)\n",
    "    __array_extended = np.column_stack((_array, _vector))\n",
    "    __extended_rank = np.linalg.matrix_rank(__array_extended)\n",
    "    return (__array_rank >= __extended_rank, __array_rank > __extended_rank)\n",
    "\n",
    "\n",
    "def compare_arrays(_array1: np.ndarray, _array2: np.ndarray) -> bool:\n",
    "    \"\"\"Проверяет совпадают ли массивы и возвращает булевое значение\"\"\"\n",
    "    __checking_arr = np.array([1.0, 1.0, 1.0, 1.0])\n",
    "    return not ((_array1 / _array2) - __checking_arr).all()\n",
    "\n",
    "\n",
    "def solve_system(_array: np.ndarray, _vector: np.ndarray) -> np.ndarray:\n",
    "    \"\"\"Возвращает решение системы уровнений, если оно имеется, иначе None\"\"\"\n",
    "    __arr_reversed = np.linalg.inv(_array)\n",
    "    __by_method1 = np.dot(__arr_reversed, _vector)\n",
    "    __by_method2 = np.linalg.solve(_array, _vector)\n",
    "    __test1 = compare_arrays(__by_method1, __by_method2)\n",
    "    __test2 = compare_arrays(_vector, np.dot(_array , __by_method1))\n",
    "    if __test1 and __test2:\n",
    "        return __by_method1\n",
    "\n",
    "\n",
    "def module_test() -> None:\n",
    "    \"\"\"Функция тестирования данного модуля\"\"\"\n",
    "    arr_A = np.array(\n",
    "            [[7.09, 1.17, -2.23, 1.00], \n",
    "            [1.40, -0.02, 0.00, 3.21], \n",
    "            [2.13, 4.00, 3.00, 3.00],\n",
    "            [2.00, -4.75, -1.05, -5.06]]\n",
    "        )\n",
    "\n",
    "    arr_b = np.array([0.43, -4.25, -2.00, 6.00])\n",
    "    solve_exists_check, is_many_answers = is_solve_exists(arr_A, arr_b)\n",
    "\n",
    "    if solve_exists_check:\n",
    "        print(solve_system(arr_A, arr_b))\n",
    "\n",
    "\n",
    "if __name__ == \"__main__\":\n",
    "    module_test()"
   ]
  }
 ],
 "metadata": {
  "interpreter": {
   "hash": "5ef4841162f79949e1a869d41cdba80de50f450cdd77a530598465f6db708fd2"
  },
  "kernelspec": {
   "display_name": "Python 3.10.2 64-bit",
   "language": "python",
   "name": "python3"
  },
  "language_info": {
   "codemirror_mode": {
    "name": "ipython",
    "version": 3
   },
   "file_extension": ".py",
   "mimetype": "text/x-python",
   "name": "python",
   "nbconvert_exporter": "python",
   "pygments_lexer": "ipython3",
   "version": "3.10.2"
  },
  "orig_nbformat": 4
 },
 "nbformat": 4,
 "nbformat_minor": 2
}
